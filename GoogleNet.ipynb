{
 "cells": [
  {
   "cell_type": "code",
   "execution_count": 4,
   "metadata": {},
   "outputs": [
    {
     "ename": "ModuleNotFoundError",
     "evalue": "No module named 'exeption'",
     "output_type": "error",
     "traceback": [
      "\u001b[1;31m---------------------------------------------------------------------------\u001b[0m",
      "\u001b[1;31mModuleNotFoundError\u001b[0m                       Traceback (most recent call last)",
      "Cell \u001b[1;32mIn[4], line 9\u001b[0m\n\u001b[0;32m      7\u001b[0m \u001b[38;5;28;01mimport\u001b[39;00m \u001b[38;5;21;01mtorch\u001b[39;00m\u001b[38;5;21;01m.\u001b[39;00m\u001b[38;5;21;01moptim\u001b[39;00m\u001b[38;5;21;01m.\u001b[39;00m\u001b[38;5;21;01mlr_scheduler\u001b[39;00m \u001b[38;5;28;01mas\u001b[39;00m \u001b[38;5;21;01mlr_sched\u001b[39;00m\n\u001b[0;32m      8\u001b[0m \u001b[38;5;28;01mimport\u001b[39;00m \u001b[38;5;21;01mtorch\u001b[39;00m\u001b[38;5;21;01m.\u001b[39;00m\u001b[38;5;21;01mutils\u001b[39;00m\u001b[38;5;21;01m.\u001b[39;00m\u001b[38;5;21;01mdata\u001b[39;00m \u001b[38;5;28;01mas\u001b[39;00m \u001b[38;5;21;01mdata\u001b[39;00m\n\u001b[1;32m----> 9\u001b[0m \u001b[38;5;28;01mimport\u001b[39;00m \u001b[38;5;21;01mexeption\u001b[39;00m\n",
      "\u001b[1;31mModuleNotFoundError\u001b[0m: No module named 'exeption'"
     ]
    }
   ],
   "source": [
    "import torch\n",
    "import torchvision\n",
    "from torchvision import transforms\n",
    "from torch.utils.data import DataLoader, Dataset\n",
    "import torch.nn as nn\n",
    "import torch.optim as optim\n",
    "import torch.optim.lr_scheduler as lr_sched\n",
    "import torch.utils.data as data"
   ]
  },
  {
   "cell_type": "code",
   "execution_count": null,
   "metadata": {},
   "outputs": [],
   "source": [
    "if torch.cuda.is_available():\n",
    "    device = \"cuda\"\n",
    "else:\n",
    "    device = \"cpu\""
   ]
  },
  {
   "cell_type": "code",
   "execution_count": null,
   "metadata": {},
   "outputs": [],
   "source": [
    "\"\"\"\n",
    "Do grzyb/nie grzyb - transform_raw_1\n",
    "Do klasyfikacji - transform_raw_2 (zachowuje więcej szczegółów)\n",
    "\"\"\"\n",
    "transform_raw_1 = transforms.Compose(\n",
    "    transforms.Resize(96, 96),\n",
    "    transforms.ToTensor(),\n",
    "     transforms.Normalize([0.5, 0.5, 0.5], [0.5, 0.5, 0.5])\n",
    ")\n",
    "\n",
    "transform_raw_2 = transforms.Compose(\n",
    "    transforms.Resize(250, 250),\n",
    "    transforms.ToTensor(),\n",
    "     transforms.Normalize([0.5, 0.5, 0.5], [0.5, 0.5, 0.5])\n",
    ")"
   ]
  },
  {
   "cell_type": "code",
   "execution_count": null,
   "metadata": {},
   "outputs": [],
   "source": [
    "dataset = torchvision.datasets.ImageFolder(\"DS_MASHROOM_OR_NOT\", transform=transform_raw_1)\n",
    "len(dataset)"
   ]
  },
  {
   "cell_type": "code",
   "execution_count": null,
   "metadata": {},
   "outputs": [],
   "source": [
    "seed = 123\n",
    "torch.manual_seed(seed)"
   ]
  },
  {
   "cell_type": "code",
   "execution_count": null,
   "metadata": {},
   "outputs": [],
   "source": [
    "train_size = 50000\n",
    "val_size = len(dataset) - train_size\n",
    "\n",
    "train_ds, val_ds = data.random_split(dataset, [train_size, val_size])"
   ]
  },
  {
   "cell_type": "code",
   "execution_count": null,
   "metadata": {},
   "outputs": [],
   "source": [
    "batch_size = 500\n",
    "\n",
    "train_loader = DataLoader(train_ds, batch_size=batch_size, shuffle=True, pin_memory=True, num_workers=1)\n",
    "val_loader = DataLoader(val_ds, batch_size=batch_size, pin_memory=True, num_workers=1)"
   ]
  },
  {
   "cell_type": "code",
   "execution_count": 5,
   "metadata": {},
   "outputs": [],
   "source": [
    "class RestPercepton_block(nn.Module):\n",
    "    \"\"\"\n",
    "    Base class for percepton block with residual connection (no pre-activation and BN before conv)\n",
    "\n",
    "    in_channels - num. channles into block\n",
    "    out_channels - num. concatenated channles out from block\n",
    "    conv_size_in - list of num. of channels into 1,3 and 5 conv (respectively)\n",
    "    conv_size_out - list of num. of channels going out from 1,3,5 conv (-||-)\n",
    "    stride, padding - list with stride and padding values for 1, 3, 5 conv respectively\n",
    "    change_depth_pool - change depth for pooling. By default \"False\"(no change), if used must be int (out depth from pool section)\n",
    "    \"\"\"\n",
    "\n",
    "\n",
    "    #TODO add batch normalization and activation functions after conv\n",
    "    def __init__(self, in_channels, out_channels,\n",
    "                conv_size_in:list, conv_size_out:list,\n",
    "                stride:list=[1,1,2], padding:list=[0, 1, 2],\n",
    "                change_depth_pool=False):\n",
    "\n",
    "        # checking if dim are correct\n",
    "        if(out_channels != sum(conv_size_out)):\n",
    "            raise ValueError(\n",
    "                \"Sum of out channels of the block must be equal to sum of out channels of convs inside the block\"\n",
    "            )\n",
    "\n",
    "        super().__init__()\n",
    "        self.in_channels = in_channels\n",
    "        self.out_channels = out_channels\n",
    "\n",
    "        # conv 1x1\n",
    "        self.conv1 = nn.Sequential(\n",
    "            nn.Conv2d(conv_size_in[0], conv_size_out[0], kernel_size=1, stride=stride[0], padding=padding[0]),\n",
    "            nn.BatchNorm2d(conv_size_out[0]),\n",
    "            nn.ReLU()\n",
    "        )\n",
    "\n",
    "        # conv 3x3\n",
    "        self.conv3 = nn.Sequential(\n",
    "            nn.Conv2d(conv_size_in[1], conv_size_out[1], kernel_size=3, stride=stride[1], padding=padding[1]),\n",
    "            nn.BatchNorm2d(conv_size_out[1]),\n",
    "            nn.ReLU()\n",
    "        )\n",
    "\n",
    "        if(conv_size_in[1] != in_channels): # change depth if intercepton input has different depth size than 3x3 conv_in_depth\n",
    "            self.conv3 = nn.Sequential(\n",
    "                nn.Conv2d(in_channels, conv_size_in[1], kernel_size=1, padding=0, stride=1),\n",
    "                self.conv3\n",
    "        )\n",
    "\n",
    "       # conv 5x5\n",
    "        self.conv5 = nn.Sequential(\n",
    "            nn.Conv2d(conv_size_in[2], conv_size_out[2], kernel_size=5, stride=stride[2], padding=padding[2]),\n",
    "            nn.BatchNorm2d(conv_size_out[2]),\n",
    "            nn.ReLU()\n",
    "        )\n",
    "\n",
    "        if(conv_size_in[1] != in_channels): # change depth if intercepton input has different depth size than 5x5 conv_in_depth\n",
    "            self.conv5 = nn.Sequential(\n",
    "                nn.Conv2d(in_channels, conv_size_in[2], kernel_size=1, padding=0, stride=1),\n",
    "                self.conv5\n",
    "        )\n",
    "\n",
    "        # max pool 3x3\n",
    "        if(not change_depth_pool):\n",
    "           self.pool = nn.MaxPool2d(kernel_size=3, stride=2)\n",
    "        else:\n",
    "            self.pool = nn.Sequential(\n",
    "                nn.Conv2d(in_channels, change_depth_pool, kernel_size=1, padding=0, stride=1),\n",
    "                self.depth_change(in_channels, change_depth_pool),\n",
    "                nn.BatchNorm2d(change_depth_pool),\n",
    "                nn.ReLU()\n",
    "            )\n",
    "\n",
    "\n",
    "    def forward(self, x):\n",
    "\n",
    "        conv1 = self.conv1(x)\n",
    "        conv3 = self.conv3(x)\n",
    "        conv5 = self.conv5(x)\n",
    "        pool = self.pool(x)\n",
    "\n",
    "        if(self.in_channels != self.outchannels):\n",
    "            rest_conv = nn.Conv2d(self.in_channels, self.out_channels, kernel_size=1, stride=1)\n",
    "            residual = rest_conv(x)\n",
    "        else:\n",
    "            residual = x\n",
    "\n",
    "\n",
    "        return(torch.cat([conv1, conv3, conv5, pool], dim=1) + residual)"
   ]
  },
  {
   "cell_type": "code",
   "execution_count": null,
   "metadata": {},
   "outputs": [],
   "source": []
  }
 ],
 "metadata": {
  "kernelspec": {
   "display_name": "Python 3",
   "language": "python",
   "name": "python3"
  },
  "language_info": {
   "codemirror_mode": {
    "name": "ipython",
    "version": 3
   },
   "file_extension": ".py",
   "mimetype": "text/x-python",
   "name": "python",
   "nbconvert_exporter": "python",
   "pygments_lexer": "ipython3",
   "version": "3.11.3"
  }
 },
 "nbformat": 4,
 "nbformat_minor": 2
}
