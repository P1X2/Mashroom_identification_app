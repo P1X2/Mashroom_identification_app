{
 "cells": [
  {
   "cell_type": "code",
   "execution_count": 2,
   "metadata": {},
   "outputs": [],
   "source": [
    "import torch\n",
    "import torchvision\n",
    "from torchvision import transforms\n",
    "from torch.utils.data import DataLoader, Dataset\n",
    "import torch.nn as nn\n",
    "import torch.optim as optim\n",
    "import torch.optim.lr_scheduler as lr_sched\n",
    "import torch.utils.data as data"
   ]
  },
  {
   "cell_type": "code",
   "execution_count": 3,
   "metadata": {},
   "outputs": [],
   "source": [
    "if torch.cuda.is_available():\n",
    "    device = \"cuda\"\n",
    "else:\n",
    "    device = \"cpu\""
   ]
  },
  {
   "cell_type": "code",
   "execution_count": 4,
   "metadata": {},
   "outputs": [],
   "source": [
    "\"\"\"\n",
    "Do grzyb/nie grzyb - transform_raw_1\n",
    "Do klasyfikacji - transform_raw_2 (zachowuje więcej szczegółów)\n",
    "\"\"\"\n",
    "transform_raw_1 = transforms.Compose([\n",
    "    transforms.Resize([96, 96]),\n",
    "    transforms.ToTensor(),\n",
    "     transforms.Normalize([0.5, 0.5, 0.5], [0.5, 0.5, 0.5])]\n",
    ")\n",
    "\n",
    "transform_raw_2 = transforms.Compose([\n",
    "    transforms.Resize([250, 250]),\n",
    "    transforms.ToTensor(),\n",
    "     transforms.Normalize([0.5, 0.5, 0.5], [0.5, 0.5, 0.5])]\n",
    ")"
   ]
  },
  {
   "cell_type": "code",
   "execution_count": 5,
   "metadata": {},
   "outputs": [
    {
     "data": {
      "text/plain": [
       "99249"
      ]
     },
     "execution_count": 5,
     "metadata": {},
     "output_type": "execute_result"
    }
   ],
   "source": [
    "dataset = torchvision.datasets.ImageFolder(\"DS_MASHROOM_OR_NOT\", transform=transform_raw_1)\n",
    "len(dataset)"
   ]
  },
  {
   "cell_type": "code",
   "execution_count": 6,
   "metadata": {},
   "outputs": [
    {
     "data": {
      "text/plain": [
       "<torch._C.Generator at 0x1222ac8b2b0>"
      ]
     },
     "execution_count": 6,
     "metadata": {},
     "output_type": "execute_result"
    }
   ],
   "source": [
    "seed = 123\n",
    "torch.manual_seed(seed)"
   ]
  },
  {
   "cell_type": "code",
   "execution_count": 7,
   "metadata": {},
   "outputs": [],
   "source": [
    "train_size = 95000\n",
    "val_size = len(dataset) - train_size\n",
    "\n",
    "train_ds, val_ds = data.random_split(dataset, [train_size, val_size])"
   ]
  },
  {
   "cell_type": "code",
   "execution_count": 8,
   "metadata": {},
   "outputs": [],
   "source": [
    "batch_size = 500\n",
    "\n",
    "train_loader = DataLoader(train_ds, batch_size=batch_size, shuffle=True, pin_memory=True, num_workers=1)\n",
    "val_loader = DataLoader(val_ds, batch_size=batch_size, pin_memory=True, num_workers=1)"
   ]
  },
  {
   "cell_type": "code",
   "execution_count": 9,
   "metadata": {},
   "outputs": [],
   "source": [
    "class RestPercepton_block(nn.Module):\n",
    "    \"\"\"\n",
    "    Base class for percepton block with residual connection (no pre-activation and BN before conv)\n",
    "\n",
    "    in_channels - num. channles into block\n",
    "    out_channels - num. concatenated channles out from block\n",
    "    conv_size_in - list of num. of channels into 1,3 and 5 conv (respectively)\n",
    "    conv_size_out - list of num. of channels going out from 1,3,5 conv (-||-)\n",
    "    stride, padding - list with stride and padding values for 1, 3, 5 conv respectively\n",
    "    change_depth_pool - change depth for pooling. By default \"False\"(no change), if used must be int (out depth from pool section)\n",
    "    \"\"\"\n",
    "\n",
    "\n",
    "    #TODO add batch normalization and activation functions after conv\n",
    "    def __init__(self, in_channels, out_channels,\n",
    "                conv_size_in:list, conv_size_out:list,\n",
    "                stride:list=[1,1,2], padding:list=[0, 1, 2],\n",
    "                change_depth_pool=False):\n",
    "\n",
    "        # checking if dim are correct\n",
    "        if(out_channels != sum(conv_size_out)):\n",
    "            raise ValueError(\n",
    "                \"Sum of out channels of the block must be equal to sum of out channels of convs inside the block\"\n",
    "            )\n",
    "\n",
    "        super().__init__()\n",
    "        self.in_channels = in_channels\n",
    "        self.out_channels = out_channels\n",
    "\n",
    "        # conv 1x1\n",
    "        self.conv1 = nn.Sequential(\n",
    "            nn.Conv2d(conv_size_in[0], conv_size_out[0], kernel_size=1, stride=stride[0], padding=padding[0]),\n",
    "            nn.BatchNorm2d(conv_size_out[0]),\n",
    "            nn.ReLU()\n",
    "        )\n",
    "\n",
    "        # conv 3x3\n",
    "        self.conv3 = nn.Sequential(\n",
    "            nn.Conv2d(conv_size_in[1], conv_size_out[1], kernel_size=3, stride=stride[1], padding=padding[1]),\n",
    "            nn.BatchNorm2d(conv_size_out[1]),\n",
    "            nn.ReLU()\n",
    "        )\n",
    "\n",
    "        if(conv_size_in[1] != in_channels): # change depth if intercepton's input has different depth size than 3x3 conv_in_depth\n",
    "            self.conv3 = nn.Sequential(\n",
    "                nn.Conv2d(in_channels, conv_size_in[1], kernel_size=1, padding=0, stride=1),\n",
    "                self.conv3\n",
    "        )\n",
    "\n",
    "       # conv 5x5\n",
    "        self.conv5 = nn.Sequential(\n",
    "            nn.Conv2d(conv_size_in[2], conv_size_out[2], kernel_size=5, stride=stride[2], padding=padding[2]),\n",
    "            nn.BatchNorm2d(conv_size_out[2]),\n",
    "            nn.ReLU()\n",
    "        )\n",
    "\n",
    "        if(conv_size_in[1] != in_channels): # change depth if intercepton's input has different depth size than 5x5 conv_in_depth\n",
    "            self.conv5 = nn.Sequential(\n",
    "                nn.Conv2d(in_channels, conv_size_in[2], kernel_size=1, padding=0, stride=1),\n",
    "                self.conv5\n",
    "        )\n",
    "\n",
    "        # max pool 3x3\n",
    "        if(not change_depth_pool):\n",
    "           self.pool = nn.MaxPool2d(kernel_size=3, stride=2)\n",
    "        else:\n",
    "            self.pool = nn.Sequential(\n",
    "                nn.Conv2d(in_channels, change_depth_pool, kernel_size=1, padding=0, stride=1),\n",
    "                self.depth_change(in_channels, change_depth_pool),\n",
    "                nn.BatchNorm2d(change_depth_pool),\n",
    "                nn.ReLU()\n",
    "            )\n",
    "\n",
    "\n",
    "    def forward(self, x):\n",
    "\n",
    "        conv1 = self.conv1(x)\n",
    "        conv3 = self.conv3(x)\n",
    "        conv5 = self.conv5(x)\n",
    "        pool = self.pool(x)\n",
    "\n",
    "        if(self.in_channels != self.outchannels):\n",
    "            rest_conv = nn.Conv2d(self.in_channels, self.out_channels, kernel_size=1, stride=1)\n",
    "            residual = rest_conv(x)\n",
    "        else:\n",
    "            residual = x\n",
    "\n",
    "\n",
    "        return(torch.cat([conv1, conv3, conv5, pool], dim=1) + residual)"
   ]
  },
  {
   "cell_type": "code",
   "execution_count": null,
   "metadata": {},
   "outputs": [],
   "source": [
    "class RestGoogleNet_BinaryClasificator(nn.Module):\n",
    "    \"\"\"\n",
    "    Input - nx96x96 photo\n",
    "    \"\"\"\n",
    "    def __init__(self, in_channels):\n",
    "        super().__init__()\n",
    "\n",
    "\n",
    "        self.Intercepton1 = RestPercepton_block(in_channels=32, out_channels=64, conv_size_in=[])\n",
    "        self.Intercepton2 = RestPercepton_block()\n",
    "        self.Intercepton3 = RestPercepton_block()\n",
    "        self.Intercepton4 = RestPercepton_block()\n",
    "\n",
    "\n",
    "        self.network = nn.Sequential(\n",
    "\n",
    "            nn.Conv2d(in_channels, out_channels=16, kernel_size=5, stride=1, padding=2),\n",
    "            nn.BatchNorm2d(16),\n",
    "            nn.ReLU(),\n",
    "            nn.MaxPool2d(kernel_size=2, stride=2), # 16x48x48\n",
    "\n",
    "            nn.Conv2d(in_channels=16, out_channels=32, kernel_size=5, stride=1, padding=2),\n",
    "            nn.BatchNorm2d(32),\n",
    "            nn.ReLU(),\n",
    "            nn.MaxPool2d(kernel_size=2, stride=2), # 32x24x24\n",
    "\n",
    "            self.Intercepton1(),\n",
    "            self.Intercepton2,\n",
    "            nn.MaxPool2d(kernel_size=2, stride=2),\n",
    "\n",
    "            self.Intercepton3,\n",
    "            nn.AvgPool2d(kernel_size=2, stride=2),\n",
    "\n",
    "\n",
    "            # fully connected\n",
    "            nn.Dropout(0.5),\n",
    "            nn.Linear(1234, 1)\n",
    "        )"
   ]
  }
 ],
 "metadata": {
  "kernelspec": {
   "display_name": "Python 3",
   "language": "python",
   "name": "python3"
  },
  "language_info": {
   "codemirror_mode": {
    "name": "ipython",
    "version": 3
   },
   "file_extension": ".py",
   "mimetype": "text/x-python",
   "name": "python",
   "nbconvert_exporter": "python",
   "pygments_lexer": "ipython3",
   "version": "3.11.3"
  }
 },
 "nbformat": 4,
 "nbformat_minor": 2
}
