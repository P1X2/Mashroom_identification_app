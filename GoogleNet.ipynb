{
 "cells": [
  {
   "cell_type": "code",
   "execution_count": 3,
   "metadata": {},
   "outputs": [],
   "source": [
    "import torch\n",
    "import torchvision\n",
    "from torchvision import transforms\n",
    "from torch.utils.data import DataLoader, Dataset\n",
    "import torch.nn as nn\n",
    "import torch.optim as optim\n",
    "import torch.optim.lr_scheduler as lr_sched\n",
    "import torch.utils.data as data"
   ]
  },
  {
   "cell_type": "code",
   "execution_count": null,
   "metadata": {},
   "outputs": [],
   "source": [
    "if torch.cuda.is_available():\n",
    "    device = \"cuda\"\n",
    "else:\n",
    "    device = \"cpu\""
   ]
  },
  {
   "cell_type": "code",
   "execution_count": null,
   "metadata": {},
   "outputs": [],
   "source": [
    "\"\"\"\n",
    "Do grzyb/nie grzyb - transform_raw_1\n",
    "Do klasyfikacji - transform_raw_2 (zachowuje więcej szczegółów)\n",
    "\"\"\"\n",
    "transform_raw_1 = transforms.Compose(\n",
    "    transforms.Resize(96, 96),\n",
    "    transforms.ToTensor(),\n",
    "     transforms.Normalize([0.5, 0.5, 0.5], [0.5, 0.5, 0.5])\n",
    ")\n",
    "\n",
    "transform_raw_2 = transforms.Compose(\n",
    "    transforms.Resize(250, 250),\n",
    "    transforms.ToTensor(),\n",
    "     transforms.Normalize([0.5, 0.5, 0.5], [0.5, 0.5, 0.5])\n",
    ")"
   ]
  },
  {
   "cell_type": "code",
   "execution_count": null,
   "metadata": {},
   "outputs": [],
   "source": [
    "dataset = torchvision.datasets.ImageFolder(\"DS_MASHROOM_OR_NOT\", transform=transform_raw_1)\n",
    "len(dataset)"
   ]
  },
  {
   "cell_type": "code",
   "execution_count": null,
   "metadata": {},
   "outputs": [],
   "source": [
    "seed = 123\n",
    "torch.manual_seed(seed)"
   ]
  },
  {
   "cell_type": "code",
   "execution_count": null,
   "metadata": {},
   "outputs": [],
   "source": [
    "train_size = 50000\n",
    "val_size = len(dataset) - train_size\n",
    "\n",
    "train_ds, val_ds = data.random_split(dataset, [train_size, val_size])"
   ]
  },
  {
   "cell_type": "code",
   "execution_count": null,
   "metadata": {},
   "outputs": [],
   "source": [
    "batch_size = 500\n",
    "\n",
    "train_loader = DataLoader(train_ds, batch_size=batch_size, shuffle=True, pin_memory=True, num_workers=1)\n",
    "val_loader = DataLoader(val_ds, batch_size=batch_size, pin_memory=True, num_workers=1)"
   ]
  },
  {
   "cell_type": "code",
   "execution_count": null,
   "metadata": {},
   "outputs": [],
   "source": [
    "class GoogleNet_Block(nn.Module):\n",
    "    \"\"\"\n",
    "    in_channels - num. channles into block\n",
    "    out_channels - num. concatenated channles going out from block\n",
    "    conv_size_in - list of num. of channels into 1,3 and 5 conv (in that order)\n",
    "    conv_size_out - list of num. of channels going out from 1,3,5 conv (-||-)\n",
    "    dim_redu - dimention reduction before 3 and 5 conv + after 3x3 pool (not obligatory)\n",
    "    \"\"\"\n",
    "\n",
    "    def __init__(self, in_channels, out_channels, conv_size_in:list, conv_size_out:list, stride:list=[1,1,2], padding:list=[0, 1, 2], dim_redu:list=[]):\n",
    "        super().__init__()\n",
    "\n",
    "        # conv 1x1\n",
    "        self.conv1 = nn.Conv2d(conv_size_in[0], conv_size_out[0], stride=stride[0], padding=padding[0])\n",
    "\n"
   ]
  }
 ],
 "metadata": {
  "kernelspec": {
   "display_name": "Python 3",
   "language": "python",
   "name": "python3"
  },
  "language_info": {
   "codemirror_mode": {
    "name": "ipython",
    "version": 3
   },
   "file_extension": ".py",
   "mimetype": "text/x-python",
   "name": "python",
   "nbconvert_exporter": "python",
   "pygments_lexer": "ipython3",
   "version": "3.11.3"
  }
 },
 "nbformat": 4,
 "nbformat_minor": 2
}
