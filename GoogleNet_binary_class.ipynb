{
 "cells": [
  {
   "cell_type": "code",
   "execution_count": 34,
   "metadata": {},
   "outputs": [],
   "source": [
    "import torch\n",
    "import torchvision\n",
    "from torchvision import transforms\n",
    "from torch.utils.data import DataLoader, Dataset\n",
    "import torch.nn as nn\n",
    "import torch.optim as optim\n",
    "import torch.optim.lr_scheduler as lr_sched\n",
    "import torch.utils.data as data\n",
    "import numpy as np\n",
    "import matplotlib.pyplot as plt"
   ]
  },
  {
   "cell_type": "code",
   "execution_count": 35,
   "metadata": {},
   "outputs": [],
   "source": [
    "from PIL import ImageFile\n",
    "ImageFile.LOAD_TRUNCATED_IMAGES = True"
   ]
  },
  {
   "cell_type": "code",
   "execution_count": 36,
   "metadata": {},
   "outputs": [],
   "source": [
    "if torch.cuda.is_available():\n",
    "    device = \"cuda\"\n",
    "else:\n",
    "    device = \"cpu\""
   ]
  },
  {
   "cell_type": "code",
   "execution_count": 37,
   "metadata": {},
   "outputs": [],
   "source": [
    "\"\"\"\n",
    "Do grzyb/nie grzyb - transform_raw_1\n",
    "Do klasyfikacji - transform_raw_2 (zachowuje więcej szczegółów)\n",
    "\"\"\"\n",
    "transform_raw_1 = transforms.Compose([\n",
    "    transforms.Resize([128, 128]),\n",
    "    transforms.ToTensor(),\n",
    "     transforms.Normalize([0.5, 0.5, 0.5], [0.5, 0.5, 0.5])]\n",
    ")\n",
    "\n",
    "transform_raw_2 = transforms.Compose([\n",
    "    transforms.Resize([250, 250]),\n",
    "    transforms.ToTensor(),\n",
    "     transforms.Normalize([0.5, 0.5, 0.5], [0.5, 0.5, 0.5])]\n",
    ")"
   ]
  },
  {
   "cell_type": "code",
   "execution_count": 38,
   "metadata": {},
   "outputs": [
    {
     "data": {
      "text/plain": [
       "11922"
      ]
     },
     "execution_count": 38,
     "metadata": {},
     "output_type": "execute_result"
    }
   ],
   "source": [
    "dataset = torchvision.datasets.ImageFolder(\"DS_MASHROOM_OR_NOT\", transform=transform_raw_1)\n",
    "len(dataset)"
   ]
  },
  {
   "cell_type": "code",
   "execution_count": 39,
   "metadata": {},
   "outputs": [
    {
     "data": {
      "text/plain": [
       "{'Mashroom': 0, 'unlabeled_images': 1}"
      ]
     },
     "execution_count": 39,
     "metadata": {},
     "output_type": "execute_result"
    }
   ],
   "source": [
    "dataset.class_to_idx"
   ]
  },
  {
   "cell_type": "code",
   "execution_count": 40,
   "metadata": {},
   "outputs": [
    {
     "data": {
      "text/plain": [
       "<torch._C.Generator at 0x23d8909d850>"
      ]
     },
     "execution_count": 40,
     "metadata": {},
     "output_type": "execute_result"
    }
   ],
   "source": [
    "seed = 123\n",
    "torch.manual_seed(seed)"
   ]
  },
  {
   "cell_type": "code",
   "execution_count": 41,
   "metadata": {},
   "outputs": [],
   "source": [
    "train_size = 10500\n",
    "val_size = len(dataset) - train_size\n",
    "\n",
    "train_ds, val_ds = data.random_split(dataset, [train_size, val_size])"
   ]
  },
  {
   "cell_type": "code",
   "execution_count": 42,
   "metadata": {},
   "outputs": [],
   "source": [
    "batch_size = 500\n",
    "\n",
    "train_loader = DataLoader(train_ds, batch_size=batch_size, shuffle=True, pin_memory=True, num_workers=0)\n",
    "val_loader = DataLoader(val_ds, batch_size=batch_size, pin_memory=True, num_workers=0)"
   ]
  },
  {
   "cell_type": "code",
   "execution_count": 43,
   "metadata": {},
   "outputs": [],
   "source": [
    "class RestPercepton_block(nn.Module):\n",
    "    \"\"\"\n",
    "    Base class for percepton block with residual connection (no pre-activation and BN before conv)\n",
    "\n",
    "    in_channels - num. channles into block\n",
    "    out_channels - num. concatenated channles out from block\n",
    "    conv_size_in - list of num. of channels into 3 and 5 conv (respectively) [conv 1x1 in is always size of in_channels]\n",
    "    conv_size_out - list of num. of channels going out from 1,3,5 conv (-||-)\n",
    "    stride, padding - list with stride and padding values for 1, 3, 5 conv respectively\n",
    "    change_depth_pool - change depth for pooling. By default \"False\"(no change), if used must be int (out depth from pool section)\n",
    "    \"\"\"\n",
    "\n",
    "\n",
    "    #TODO add batch normalization and activation functions after conv\n",
    "    def __init__(self, in_channels, out_channels,\n",
    "                conv_size_in:list, conv_size_out:list,\n",
    "                stride:list=[1,1,1], padding:list=[0, 1, 2],\n",
    "                change_depth_pool=False):\n",
    "\n",
    "        # checking if dim are correct\n",
    "        if(change_depth_pool):\n",
    "            if(out_channels != sum(conv_size_out) + change_depth_pool):\n",
    "                raise ValueError(\n",
    "                    f'Sum of out channels of the block must be equal to sum of out channels of convs inside the block (out={out_channels};conv{sum(conv_size_out)+change_depth_pool} )'\n",
    "                )\n",
    "        elif(not change_depth_pool):\n",
    "            if(out_channels != sum(conv_size_out) + in_channels):\n",
    "                raise ValueError(\n",
    "                    f'Sum of out channels of the block must be equal to sum of out channels of convs inside the block (out={out_channels};conv{sum(conv_size_out)+change_depth_pool} )'\n",
    "                )\n",
    "\n",
    "        super().__init__()\n",
    "        self.in_channels = in_channels\n",
    "        self.out_channels = out_channels\n",
    "\n",
    "\n",
    "        # conv 1x1\n",
    "        self.conv1 = nn.Sequential(\n",
    "            nn.Conv2d(in_channels, conv_size_out[0], kernel_size=1, stride=stride[0], padding=padding[0]),\n",
    "            nn.BatchNorm2d(conv_size_out[0]),\n",
    "            nn.ReLU()\n",
    "        )\n",
    "\n",
    "        # conv 3x3\n",
    "        self.conv3 = nn.Sequential(\n",
    "            nn.Conv2d(in_channels, conv_size_in[0], kernel_size=1, padding=0, stride=1), # change depth so it matches 3x3 conv in size\n",
    "            nn.Conv2d(conv_size_in[0], conv_size_out[1], kernel_size=3, stride=stride[1], padding=padding[1]),\n",
    "            nn.BatchNorm2d(conv_size_out[1]),\n",
    "            nn.ReLU()\n",
    "        )\n",
    "\n",
    "       # conv 5x5\n",
    "        self.conv5 = nn.Sequential(\n",
    "            nn.Conv2d(in_channels, conv_size_in[1], kernel_size=1, padding=0, stride=1),\n",
    "            nn.Conv2d(conv_size_in[1], conv_size_out[2], kernel_size=5, stride=stride[2], padding=padding[2]),\n",
    "            nn.BatchNorm2d(conv_size_out[2]),\n",
    "            nn.ReLU()\n",
    "        )\n",
    "\n",
    "        # max pool 3x3\n",
    "        if(change_depth_pool):\n",
    "            self.pool = nn.Sequential(\n",
    "                nn.MaxPool2d(kernel_size=3, stride=1, padding=1),\n",
    "                nn.Conv2d(in_channels, change_depth_pool, kernel_size=1, padding=0, stride=1),\n",
    "                nn.BatchNorm2d(change_depth_pool),\n",
    "                nn.ReLU()\n",
    "            )\n",
    "\n",
    "        else:\n",
    "            self.pool = nn.Sequential(\n",
    "                nn.MaxPool2d(kernel_size=3, stride=1, padding=1),\n",
    "                nn.BatchNorm2d(self.in_channels),\n",
    "                nn.ReLU()\n",
    "            )\n",
    "\n",
    "        # changer depth of rest connection\n",
    "        if(in_channels != out_channels):\n",
    "            self.RestConv = nn.Conv2d(self.in_channels, self.out_channels, kernel_size=1, stride=1)\n",
    "\n",
    "    def forward(self, x):\n",
    "\n",
    "        conv1 = self.conv1(x)\n",
    "        conv3 = self.conv3(x)\n",
    "        conv5 = self.conv5(x)\n",
    "        pool = self.pool(x)\n",
    "\n",
    "        if(self.in_channels != self.out_channels):\n",
    "\n",
    "            residual = self.RestConv(x)\n",
    "        else:\n",
    "            residual = x\n",
    "\n",
    "\n",
    "        return(torch.cat([conv1, conv3, conv5, pool], dim=1) + residual)"
   ]
  },
  {
   "cell_type": "code",
   "execution_count": 44,
   "metadata": {},
   "outputs": [],
   "source": [
    "class ImageClassifierNetwork(nn.Module):\n",
    "\n",
    "    def __init__(self):\n",
    "        super().__init__()\n",
    "        self.loss = nn.BCEWithLogitsLoss()\n",
    "\n",
    "    def train_step(self, input, labels):\n",
    "        input = input.to(device=device)\n",
    "        labels = labels.to(device=device)\n",
    "\n",
    "        preds = self.forward(input)\n",
    "        labels = labels.unsqueeze(1).float() # pred are 2-dim, so we either have to squeze preds dim1 or unsqueeze labels on dim1\n",
    "        loss = self.loss(preds, labels)\n",
    "\n",
    "        return loss\n",
    "\n",
    "    def val_step(self, input, labels):\n",
    "\n",
    "        input = input.to(device=device)\n",
    "        labels = labels.to(device=device)\n",
    "\n",
    "        preds = self.forward(input)\n",
    "        labels = labels.unsqueeze(1).float()\n",
    "        loss = self.loss(preds, labels)\n",
    "        accuracy = self._accuracy(preds, labels)\n",
    "\n",
    "        return {\"loss\":loss.detach(), \"accuracy\":accuracy}\n",
    "\n",
    "\n",
    "    def val_epoch_end(self, preformance_measurement_data):\n",
    "\n",
    "        accuracy = [x[\"accuracy\"] for x in preformance_measurement_data]\n",
    "        avg_accuracy = np.mean(accuracy)\n",
    "\n",
    "        loss = [x[\"loss\"].cpu().numpy() for x in preformance_measurement_data]\n",
    "        avg_loss = np.mean(loss)\n",
    "\n",
    "        return avg_loss, avg_accuracy\n",
    "\n",
    "\n",
    "    def _accuracy(self, preds, labels):\n",
    "\n",
    "        probabilities = torch.sigmoid(preds)\n",
    "\n",
    "        predicted_labels = (probabilities > .5).float()\n",
    "\n",
    "        correct = (predicted_labels == labels).float()\n",
    "        accuracy = correct.sum() / len(preds)\n",
    "\n",
    "        return accuracy.item()"
   ]
  },
  {
   "cell_type": "code",
   "execution_count": 45,
   "metadata": {},
   "outputs": [],
   "source": [
    "class RestGoogleNet_Clasificator(ImageClassifierNetwork):\n",
    "    \"\"\"\n",
    "    Input - in_channels x 96x96\n",
    "    \"\"\"\n",
    "    def __init__(self, in_channels):\n",
    "        super().__init__()\n",
    "\n",
    "\n",
    "        self.Intercepton1 = RestPercepton_block(in_channels=32, out_channels=144, conv_size_in=[32,32], conv_size_out=[16, 48, 48],change_depth_pool=False)\n",
    "        self.Intercepton2 = RestPercepton_block(in_channels=144, out_channels=208, conv_size_in=[64,64], conv_size_out=[24, 72, 64],change_depth_pool= 48)\n",
    "        self.Intercepton3 = RestPercepton_block(in_channels=208, out_channels=232, conv_size_in=[96,96], conv_size_out=[32, 96, 72],change_depth_pool=32)\n",
    "        self.Intercepton4 = RestPercepton_block(in_channels=232, out_channels=288, conv_size_in=[128,128], conv_size_out=[48, 128, 96],change_depth_pool=16)\n",
    "\n",
    "        self.Conv1 = nn.Conv2d(in_channels, out_channels=16, kernel_size=5, stride=1, padding=2)\n",
    "        self.Conv2 = nn.Conv2d(in_channels=16, out_channels=32, kernel_size=5, stride=1, padding=2)\n",
    "\n",
    "        self.MaxPool_2x2 = nn.MaxPool2d(kernel_size=2, stride=2)\n",
    "        self.AvgPool_6x6 = nn.AvgPool2d(kernel_size=8, stride=1)\n",
    "\n",
    "        self.Dropout = nn.Dropout(0.5)\n",
    "        self.Linear = nn.Linear(288, 1)\n",
    "\n",
    "        self.BN1 = nn.BatchNorm2d(16)\n",
    "        self.BN2 = nn.BatchNorm2d(32)\n",
    "        self.BN3 = nn.BatchNorm2d(264)\n",
    "\n",
    "        self.activation = nn.ReLU()\n",
    "\n",
    "\n",
    "    def forward(self, x):\n",
    "\n",
    "        x = self.Conv1(x)\n",
    "        x = self.BN1(x)\n",
    "        x = self.activation(x)\n",
    "        x = self.MaxPool_2x2(x) #64x64\n",
    "\n",
    "        x = self.Conv2(x)\n",
    "        x = self.BN2(x)\n",
    "        x = self.activation(x)\n",
    "        x = self.MaxPool_2x2(x) #32x32\n",
    "\n",
    "        x = self.Intercepton1(x)\n",
    "        x = self.MaxPool_2x2(x) # 16x16\n",
    "\n",
    "        x = self.Intercepton2(x)\n",
    "        x = self.Intercepton3(x)\n",
    "        x = self.MaxPool_2x2(x) # 232x8x8\n",
    "\n",
    "        x = self.Intercepton4(x)\n",
    "        x = self.AvgPool_6x6(x) # 288x1x1\n",
    "\n",
    "        x = x.view(x.size(0), -1)\n",
    "\n",
    "        x = self.Dropout(x)\n",
    "        x = self.Linear(x)\n",
    "\n",
    "        return x"
   ]
  },
  {
   "cell_type": "code",
   "execution_count": 46,
   "metadata": {},
   "outputs": [
    {
     "data": {
      "text/plain": [
       "RestGoogleNet_Clasificator(\n",
       "  (loss): BCEWithLogitsLoss()\n",
       "  (Intercepton1): RestPercepton_block(\n",
       "    (conv1): Sequential(\n",
       "      (0): Conv2d(32, 16, kernel_size=(1, 1), stride=(1, 1))\n",
       "      (1): BatchNorm2d(16, eps=1e-05, momentum=0.1, affine=True, track_running_stats=True)\n",
       "      (2): ReLU()\n",
       "    )\n",
       "    (conv3): Sequential(\n",
       "      (0): Conv2d(32, 32, kernel_size=(1, 1), stride=(1, 1))\n",
       "      (1): Conv2d(32, 48, kernel_size=(3, 3), stride=(1, 1), padding=(1, 1))\n",
       "      (2): BatchNorm2d(48, eps=1e-05, momentum=0.1, affine=True, track_running_stats=True)\n",
       "      (3): ReLU()\n",
       "    )\n",
       "    (conv5): Sequential(\n",
       "      (0): Conv2d(32, 32, kernel_size=(1, 1), stride=(1, 1))\n",
       "      (1): Conv2d(32, 48, kernel_size=(5, 5), stride=(1, 1), padding=(2, 2))\n",
       "      (2): BatchNorm2d(48, eps=1e-05, momentum=0.1, affine=True, track_running_stats=True)\n",
       "      (3): ReLU()\n",
       "    )\n",
       "    (pool): Sequential(\n",
       "      (0): MaxPool2d(kernel_size=3, stride=1, padding=1, dilation=1, ceil_mode=False)\n",
       "      (1): BatchNorm2d(32, eps=1e-05, momentum=0.1, affine=True, track_running_stats=True)\n",
       "      (2): ReLU()\n",
       "    )\n",
       "    (RestConv): Conv2d(32, 144, kernel_size=(1, 1), stride=(1, 1))\n",
       "  )\n",
       "  (Intercepton2): RestPercepton_block(\n",
       "    (conv1): Sequential(\n",
       "      (0): Conv2d(144, 24, kernel_size=(1, 1), stride=(1, 1))\n",
       "      (1): BatchNorm2d(24, eps=1e-05, momentum=0.1, affine=True, track_running_stats=True)\n",
       "      (2): ReLU()\n",
       "    )\n",
       "    (conv3): Sequential(\n",
       "      (0): Conv2d(144, 64, kernel_size=(1, 1), stride=(1, 1))\n",
       "      (1): Conv2d(64, 72, kernel_size=(3, 3), stride=(1, 1), padding=(1, 1))\n",
       "      (2): BatchNorm2d(72, eps=1e-05, momentum=0.1, affine=True, track_running_stats=True)\n",
       "      (3): ReLU()\n",
       "    )\n",
       "    (conv5): Sequential(\n",
       "      (0): Conv2d(144, 64, kernel_size=(1, 1), stride=(1, 1))\n",
       "      (1): Conv2d(64, 64, kernel_size=(5, 5), stride=(1, 1), padding=(2, 2))\n",
       "      (2): BatchNorm2d(64, eps=1e-05, momentum=0.1, affine=True, track_running_stats=True)\n",
       "      (3): ReLU()\n",
       "    )\n",
       "    (pool): Sequential(\n",
       "      (0): MaxPool2d(kernel_size=3, stride=1, padding=1, dilation=1, ceil_mode=False)\n",
       "      (1): Conv2d(144, 48, kernel_size=(1, 1), stride=(1, 1))\n",
       "      (2): BatchNorm2d(48, eps=1e-05, momentum=0.1, affine=True, track_running_stats=True)\n",
       "      (3): ReLU()\n",
       "    )\n",
       "    (RestConv): Conv2d(144, 208, kernel_size=(1, 1), stride=(1, 1))\n",
       "  )\n",
       "  (Intercepton3): RestPercepton_block(\n",
       "    (conv1): Sequential(\n",
       "      (0): Conv2d(208, 32, kernel_size=(1, 1), stride=(1, 1))\n",
       "      (1): BatchNorm2d(32, eps=1e-05, momentum=0.1, affine=True, track_running_stats=True)\n",
       "      (2): ReLU()\n",
       "    )\n",
       "    (conv3): Sequential(\n",
       "      (0): Conv2d(208, 96, kernel_size=(1, 1), stride=(1, 1))\n",
       "      (1): Conv2d(96, 96, kernel_size=(3, 3), stride=(1, 1), padding=(1, 1))\n",
       "      (2): BatchNorm2d(96, eps=1e-05, momentum=0.1, affine=True, track_running_stats=True)\n",
       "      (3): ReLU()\n",
       "    )\n",
       "    (conv5): Sequential(\n",
       "      (0): Conv2d(208, 96, kernel_size=(1, 1), stride=(1, 1))\n",
       "      (1): Conv2d(96, 72, kernel_size=(5, 5), stride=(1, 1), padding=(2, 2))\n",
       "      (2): BatchNorm2d(72, eps=1e-05, momentum=0.1, affine=True, track_running_stats=True)\n",
       "      (3): ReLU()\n",
       "    )\n",
       "    (pool): Sequential(\n",
       "      (0): MaxPool2d(kernel_size=3, stride=1, padding=1, dilation=1, ceil_mode=False)\n",
       "      (1): Conv2d(208, 32, kernel_size=(1, 1), stride=(1, 1))\n",
       "      (2): BatchNorm2d(32, eps=1e-05, momentum=0.1, affine=True, track_running_stats=True)\n",
       "      (3): ReLU()\n",
       "    )\n",
       "    (RestConv): Conv2d(208, 232, kernel_size=(1, 1), stride=(1, 1))\n",
       "  )\n",
       "  (Intercepton4): RestPercepton_block(\n",
       "    (conv1): Sequential(\n",
       "      (0): Conv2d(232, 48, kernel_size=(1, 1), stride=(1, 1))\n",
       "      (1): BatchNorm2d(48, eps=1e-05, momentum=0.1, affine=True, track_running_stats=True)\n",
       "      (2): ReLU()\n",
       "    )\n",
       "    (conv3): Sequential(\n",
       "      (0): Conv2d(232, 128, kernel_size=(1, 1), stride=(1, 1))\n",
       "      (1): Conv2d(128, 128, kernel_size=(3, 3), stride=(1, 1), padding=(1, 1))\n",
       "      (2): BatchNorm2d(128, eps=1e-05, momentum=0.1, affine=True, track_running_stats=True)\n",
       "      (3): ReLU()\n",
       "    )\n",
       "    (conv5): Sequential(\n",
       "      (0): Conv2d(232, 128, kernel_size=(1, 1), stride=(1, 1))\n",
       "      (1): Conv2d(128, 96, kernel_size=(5, 5), stride=(1, 1), padding=(2, 2))\n",
       "      (2): BatchNorm2d(96, eps=1e-05, momentum=0.1, affine=True, track_running_stats=True)\n",
       "      (3): ReLU()\n",
       "    )\n",
       "    (pool): Sequential(\n",
       "      (0): MaxPool2d(kernel_size=3, stride=1, padding=1, dilation=1, ceil_mode=False)\n",
       "      (1): Conv2d(232, 16, kernel_size=(1, 1), stride=(1, 1))\n",
       "      (2): BatchNorm2d(16, eps=1e-05, momentum=0.1, affine=True, track_running_stats=True)\n",
       "      (3): ReLU()\n",
       "    )\n",
       "    (RestConv): Conv2d(232, 288, kernel_size=(1, 1), stride=(1, 1))\n",
       "  )\n",
       "  (Conv1): Conv2d(3, 16, kernel_size=(5, 5), stride=(1, 1), padding=(2, 2))\n",
       "  (Conv2): Conv2d(16, 32, kernel_size=(5, 5), stride=(1, 1), padding=(2, 2))\n",
       "  (MaxPool_2x2): MaxPool2d(kernel_size=2, stride=2, padding=0, dilation=1, ceil_mode=False)\n",
       "  (AvgPool_6x6): AvgPool2d(kernel_size=8, stride=1, padding=0)\n",
       "  (Dropout): Dropout(p=0.5, inplace=False)\n",
       "  (Linear): Linear(in_features=288, out_features=1, bias=True)\n",
       "  (BN1): BatchNorm2d(16, eps=1e-05, momentum=0.1, affine=True, track_running_stats=True)\n",
       "  (BN2): BatchNorm2d(32, eps=1e-05, momentum=0.1, affine=True, track_running_stats=True)\n",
       "  (BN3): BatchNorm2d(264, eps=1e-05, momentum=0.1, affine=True, track_running_stats=True)\n",
       "  (activation): ReLU()\n",
       ")"
      ]
     },
     "execution_count": 46,
     "metadata": {},
     "output_type": "execute_result"
    }
   ],
   "source": [
    "model = RestGoogleNet_Clasificator(in_channels=3)\n",
    "model.to(device)\n",
    "# model.load_state_dict(torch.load(\"5_epch_googleNet_BINARY_V2_128X128.pt\"))\n"
   ]
  },
  {
   "cell_type": "code",
   "execution_count": 47,
   "metadata": {},
   "outputs": [
    {
     "data": {
      "text/plain": [
       "1234033"
      ]
     },
     "execution_count": 47,
     "metadata": {},
     "output_type": "execute_result"
    }
   ],
   "source": [
    "params_sum = 0\n",
    "for params in model.parameters():\n",
    "    params_sum+=params.view(-1).size(0)\n",
    "params_sum"
   ]
  },
  {
   "cell_type": "code",
   "execution_count": 48,
   "metadata": {},
   "outputs": [],
   "source": [
    "epoch = 10\n",
    "\n",
    "optimizer = torch.optim.Adam(model.parameters(), lr=1e-3, weight_decay=1e-4)\n",
    "lr_scheduler = optim.lr_scheduler.ExponentialLR(optimizer=optimizer, gamma=.95)"
   ]
  },
  {
   "cell_type": "code",
   "execution_count": 49,
   "metadata": {},
   "outputs": [],
   "source": [
    "def eval(val_loader, model):\n",
    "        history = []\n",
    "        for input, label in val_loader:\n",
    "            history += [model.val_step(input, label)]\n",
    "\n",
    "        loss_val, acc_val = model.val_epoch_end(history)\n",
    "\n",
    "        return loss_val, acc_val"
   ]
  },
  {
   "cell_type": "code",
   "execution_count": 50,
   "metadata": {},
   "outputs": [],
   "source": [
    "torch.manual_seed(seed=torch.initial_seed())\n",
    "\n",
    "transform = transforms.RandomChoice(\n",
    "    [\n",
    "    transforms.RandomHorizontalFlip(0.5),\n",
    "    transforms.RandomRotation(degrees=(20, 60)),\n",
    "    transforms.RandomPerspective(distortion_scale=.35),\n",
    "    ]\n",
    ")"
   ]
  },
  {
   "cell_type": "code",
   "execution_count": 51,
   "metadata": {},
   "outputs": [],
   "source": [
    "def train(train_dataloader, epoch):\n",
    "    model.train(mode=True)\n",
    "\n",
    "    epoch_loss_T = []\n",
    "    batch_loss_T = []\n",
    "    epoch_loss_V = []\n",
    "    epoch_acc_V = []\n",
    "\n",
    "\n",
    "    for ep in range(epoch):\n",
    "\n",
    "        for input, label in train_dataloader:\n",
    "\n",
    "            transformed_input = transform(input)\n",
    "            loss = model.train_step(transformed_input, label)\n",
    "\n",
    "            optimizer.zero_grad()\n",
    "            loss.backward()\n",
    "\n",
    "            optimizer.step()\n",
    "            lr_scheduler.step()\n",
    "\n",
    "            batch_loss_T += [loss.item()]\n",
    "\n",
    "        epoch_loss_T += [np.mean(batch_loss_T)]\n",
    "        batch_loss_T = []\n",
    "\n",
    "        loss_val, acc_val = eval(val_loader, model)\n",
    "        epoch_loss_V += [loss_val]\n",
    "        epoch_acc_V += [acc_val]\n",
    "\n",
    "        print(f'Epoch {ep+1}; TLoss: {epoch_loss_T[ep]}; Vloss: {loss_val}; Acc: {acc_val}')\n",
    "        torch.save(model.state_dict(), f=f'models_BIN/model_epoch{ep}.pt')\n",
    "\n",
    "\n",
    "    model.eval()\n",
    "    return epoch_loss_T, epoch_loss_V, epoch_acc_V"
   ]
  },
  {
   "cell_type": "code",
   "execution_count": 52,
   "metadata": {},
   "outputs": [
    {
     "name": "stdout",
     "output_type": "stream",
     "text": [
      "Epoch 1; TLoss: 0.350387814499083; Vloss: 0.18178020417690277; Acc: 0.9343539079030355\n",
      "Epoch 2; TLoss: 0.1519829478292238; Vloss: 0.11723574250936508; Acc: 0.9564992785453796\n",
      "Epoch 3; TLoss: 0.13003220409154892; Vloss: 0.10971952229738235; Acc: 0.9637820323308309\n",
      "Epoch 4; TLoss: 0.1125476849930627; Vloss: 0.10589275509119034; Acc: 0.9639052351315817\n",
      "Epoch 5; TLoss: 0.1157221645116806; Vloss: 0.10530873388051987; Acc: 0.9645719130833944\n",
      "Epoch 6; TLoss: 0.10993988705532891; Vloss: 0.10462319850921631; Acc: 0.9631153543790182\n",
      "Epoch 7; TLoss: 0.10337837430692855; Vloss: 0.10442725569009781; Acc: 0.9652385711669922\n",
      "Epoch 8; TLoss: 0.1075730337983086; Vloss: 0.10241948813199997; Acc: 0.9652385711669922\n",
      "Epoch 9; TLoss: 0.11402022874071485; Vloss: 0.10101693868637085; Acc: 0.9660284916559855\n",
      "Epoch 10; TLoss: 0.11339149304798671; Vloss: 0.10340187698602676; Acc: 0.9636588096618652\n"
     ]
    }
   ],
   "source": [
    "loss_T, loss_V, acc_V = train(train_loader, epoch)"
   ]
  },
  {
   "cell_type": "code",
   "execution_count": 53,
   "metadata": {},
   "outputs": [
    {
     "data": {
      "image/png": "[encoded data removed]",
      "text/plain": [
       "<Figure size 640x480 with 1 Axes>"
      ]
     },
     "metadata": {},
     "output_type": "display_data"
    },
    {
     "data": {
      "image/png": "[encoded data removed]",
      "text/plain": [
       "<Figure size 640x480 with 1 Axes>"
      ]
     },
     "metadata": {},
     "output_type": "display_data"
    }
   ],
   "source": [
    "def plot_results(loss_T, loss_V, acc_V):\n",
    "\n",
    "    # fig = plt.figure\n",
    "    plt.plot(loss_T, label=\"Train\")\n",
    "    plt.plot(loss_V, label=\"Val\")\n",
    "    plt.title(\"Loss\")\n",
    "    plt.legend()\n",
    "    plt.show()\n",
    "\n",
    "    # fig2 = plt.figure\n",
    "    plt.plot(acc_V, label=\"Accuracy\")\n",
    "    plt.legend()\n",
    "    plt.show()\n",
    "\n",
    "plot_results(loss_T, loss_V, acc_V)"
   ]
  },
  {
   "cell_type": "markdown",
   "metadata": {},
   "source": [
    "### Evaluation on test set "
   ]
  },
  {
   "cell_type": "code",
   "execution_count": 54,
   "metadata": {},
   "outputs": [],
   "source": [
    "batch_size = 200\n",
    "test_dataset = torchvision.datasets.ImageFolder(root=\"Test_MASHROOM_OR_NOT\", transform=transform_raw_1)\n",
    "test_loader = data.DataLoader(test_dataset, batch_size=batch_size, num_workers=0, pin_memory=True)"
   ]
  },
  {
   "cell_type": "code",
   "execution_count": 55,
   "metadata": {},
   "outputs": [],
   "source": [
    "def eval_test(test_loader, model):\n",
    "\n",
    "    accuracy = []\n",
    "\n",
    "    for input, label in test_loader:\n",
    "        input = input.to(device)\n",
    "        label = label.to(device)\n",
    "\n",
    "        preds = model.forward(input)\n",
    "\n",
    "        probabilities = torch.sigmoid(preds)\n",
    "        predicted_labels = (probabilities > .5).float()\n",
    "\n",
    "        correct = (predicted_labels == label).float()\n",
    "        accuracy += [(correct.sum() / len(preds)).cpu().item()]\n",
    "\n",
    "    accuracy = np.mean(accuracy)\n",
    "\n",
    "    return accuracy\n"
   ]
  },
  {
   "cell_type": "code",
   "execution_count": 57,
   "metadata": {},
   "outputs": [
    {
     "data": {
      "text/plain": [
       "<All keys matched successfully>"
      ]
     },
     "execution_count": 57,
     "metadata": {},
     "output_type": "execute_result"
    }
   ],
   "source": [
    "model_name = \"models_BIN\\model_epoch9\"\n",
    "model1 = RestGoogleNet_Clasificator(3)\n",
    "model1.to(device)\n",
    "model1.load_state_dict(torch.load(model_name + \".pt\"))"
   ]
  },
  {
   "cell_type": "code",
   "execution_count": 58,
   "metadata": {},
   "outputs": [
    {
     "name": "stdout",
     "output_type": "stream",
     "text": [
      "99.12193544449345\n"
     ]
    }
   ],
   "source": [
    "print(eval_test(test_loader, model1))"
   ]
  }
 ],
 "metadata": {
  "kernelspec": {
   "display_name": "Python 3",
   "language": "python",
   "name": "python3"
  },
  "language_info": {
   "codemirror_mode": {
    "name": "ipython",
    "version": 3
   },
   "file_extension": ".py",
   "mimetype": "text/x-python",
   "name": "python",
   "nbconvert_exporter": "python",
   "pygments_lexer": "ipython3",
   "version": "3.11.3"
  }
 },
 "nbformat": 4,
 "nbformat_minor": 2
}
