{
 "cells": [
  {
   "cell_type": "code",
   "execution_count": null,
   "metadata": {},
   "outputs": [],
   "source": [
    "import torch\n",
    "from torchvision import transforms\n",
    "from PIL import Image\n",
    "\n",
    "def resize_and_save_image(input_path, output_path, new_size):\n",
    "    \"\"\"\n",
    "    Wczytuje obraz, zmienia jego rozmiar i zapisuje w nowej lokalizacji.\n",
    "\n",
    "    :param input_path: Ścieżka do wczytywanego obrazu.\n",
    "    :param output_path: Ścieżka, gdzie obraz zostanie zapisany.\n",
    "    :param new_size: Nowy rozmiar obrazu w formacie (wysokość, szerokość).\n",
    "    \"\"\"\n",
    "    # Wczytanie obrazu\n",
    "    image = Image.open(input_path)\n",
    "\n",
    "    # Definiowanie transformacji dla zmiany rozmiaru\n",
    "    resize_transform = transforms.Resize(new_size)\n",
    "\n",
    "    # Zastosowanie transformacji\n",
    "    resized_image = resize_transform(image)\n",
    "\n",
    "    # Zapisanie przetworzonego obrazu\n",
    "    resized_image.save(output_path)\n",
    "    print(f\"Zapisano zmieniony obraz do {output_path}\")\n",
    "\n",
    "# Przykład użycia funkcji\n",
    "input_path = 'DS_MASHROOM_OR_NOT/Mashroom/0000_av7f-8yVUNY.jpg'\n",
    "output_path = 'resized.jpg'\n",
    "new_size = (250, 250)  # Nowy rozmiar obrazu: 300x300 pikseli\n",
    "\n",
    "resize_and_save_image(input_path, output_path, new_size)\n"
   ]
  }
 ],
 "metadata": {
  "language_info": {
   "name": "python"
  }
 },
 "nbformat": 4,
 "nbformat_minor": 2
}
